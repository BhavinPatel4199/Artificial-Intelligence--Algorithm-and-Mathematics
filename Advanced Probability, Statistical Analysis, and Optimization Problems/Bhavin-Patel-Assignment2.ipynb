{
 "cells": [
  {
   "cell_type": "markdown",
   "id": "4bfff3c0",
   "metadata": {},
   "source": [
    "# AIDI 1000 - Assignment 02."
   ]
  },
  {
   "cell_type": "markdown",
   "id": "ae0cb8a8",
   "metadata": {},
   "source": [
    "# Q1: Health Canada sets an action level for mercury in fish at 1 ppm (part per million). \n",
    "\n",
    "If mercury levels are higher than this value in commercial fish, then Health Canada will take action to impose a moratorium on fishing in the area where the fish are harvested.\n",
    "\n",
    "Recently, there have been concerns about mercury levels in walleye fish populating the portion of the Athabasca River that is down stream from Whitecourt, where local First Nations harvest walleye as part of a commercial fishing operation.\n",
    "\n",
    "A biologist randomly picked n=31 walleye from a recent commercial fishing catch downstream from Whitecourt and measured the mercury (in ppm) from each walleye. \n",
    "\n",
    "The ppms, are provided below.\n",
    "1.2, 1.1, 1.0, 1.0, 1.1, 1.0, 1.0, 1.0, 0.9, 1.1, 1.1, 1.2, 1.0, 1.1, 1.0, 1.1, 1.0, 0.9, 1.0, 1.0, 1.1, 1.0, 1.0, 1.1, 1.2, 1.0, 1.1, 1.0, 1.0, 1.2, 1.1\n",
    "\n",
    "\n",
    "Part (a): Establish a statistical hypothesis. (2 points)\n",
    "\n",
    "Part (b): Using a 5% significance level, perform a suitable Hypothesis analysis that allows the biologist to see if mercury levels in walleye fish harvested from the Athabasca River (downstream of Whitecourt) exceed Heath Canada’s action level. (14 points)\n",
    "\n",
    "Part (c): In the context of your statistical hypotheses in part (a), explain both a Type I Error and a Type II Error. (2 points)\n",
    "\n",
    "Part (d): Do these data suggest that Health Canada should place a moratorium on commercial walleye fishing on the Athabasca River downstream of Whitecourt? (2 points)\n",
    "\n",
    "Part (e): In your finding, interpret the meaning of the p-value you have computed. (2 points)\n",
    "\n",
    "Part (f): If you reject the null hypothesis, provide a 95% confidence interval for the mean mercury (in ppm) of walleye found downstream from Whitecourt. (8 points)"
   ]
  },
  {
   "cell_type": "markdown",
   "id": "ff99fdd4",
   "metadata": {},
   "source": [
    "# Answer : "
   ]
  },
  {
   "cell_type": "code",
   "execution_count": 1,
   "id": "7f02e88e",
   "metadata": {},
   "outputs": [],
   "source": [
    "import numpy as np\n",
    "from scipy import stats"
   ]
  },
  {
   "cell_type": "markdown",
   "id": "ec9fa810",
   "metadata": {},
   "source": [
    "## Part (a): Establish a statistical hypothesis.\n",
    "\n",
    "The null hypothesis (H0) is that the mean mercury level in walleye fish harvested from the Athabasca River downstream of Whitecourt is equal to or less than 1 ppm.\n",
    "\n",
    "The alternative hypothesis (H1) is that the mean mercury level in walleye fish harvested from the Athabasca River downstream of Whitecourt is greater than 1 ppm."
   ]
  },
  {
   "cell_type": "markdown",
   "id": "65c4289f",
   "metadata": {},
   "source": [
    "## Part (b): Hypothesis testing using a 5% significance level.\n",
    "\n",
    "Let's perform hypothesis testing:"
   ]
  },
  {
   "cell_type": "code",
   "execution_count": 2,
   "id": "f2ba0e8f",
   "metadata": {},
   "outputs": [
    {
     "name": "stdout",
     "output_type": "stream",
     "text": [
      "Sample mean :  1.0516129032258066\n",
      "Sample standard deviation :  0.08112117578838661\n",
      "T-statistic: 3.5424595421603904\n",
      "p-value: 0.0006595483478614145\n",
      "A lower p-value indicates stronger evidence against the null hypothesis.\n"
     ]
    }
   ],
   "source": [
    "# ppms Data\n",
    "ppms_levels = np.array([1.2, 1.1, 1.0, 1.0, 1.1, 1.0, 1.0, 1.0, 0.9, 1.1, \n",
    "                           1.1, 1.2, 1.0, 1.1, 1.0, 1.1, 1.0, 0.9, 1.0, 1.0, \n",
    "                           1.1, 1.0, 1.0, 1.1, 1.2, 1.0, 1.1, 1.0, 1.0, 1.2, 1.1])\n",
    "\n",
    "# Calculate sample mean and standard deviation\n",
    "sample_mean = np.mean(ppms_levels)\n",
    "sample_std = np.std(ppms_levels, ddof=1)  # using ddof=1 for sample standard deviation\n",
    "print(\"Sample mean : \", sample_mean)\n",
    "print(\"Sample standard deviation : \", sample_std)\n",
    "\n",
    "# Population mean under the null hypothesis\n",
    "mu0 = 1\n",
    "\n",
    "# Perform one-sample t-test\n",
    "t_stat, p_value = stats.ttest_1samp(ppms_levels, mu0, alternative='greater')\n",
    "\n",
    "# Print results\n",
    "print(\"T-statistic:\", t_stat)\n",
    "print(\"p-value:\", p_value)\n",
    "print(\"A lower p-value indicates stronger evidence against the null hypothesis.\")"
   ]
  },
  {
   "cell_type": "markdown",
   "id": "e6e99d57",
   "metadata": {},
   "source": [
    "## Part (c): Explanation of Type I and Type II Errors:\n",
    "\n",
    "Type I error is rejecting the null hypothesis when it is actually true. In this case, it means assuming that the average mercury level in walleye fish is greater than 1 ppm when it is not.\n",
    "\n",
    "Type II error occurs when the null hypothesis is not rejected despite being erroneous. In this case, it means failing to infer that the mean mercury level in walleye fish exceeds 1 ppm when it actually is.\n"
   ]
  },
  {
   "cell_type": "markdown",
   "id": "e1483f4f",
   "metadata": {},
   "source": [
    "## Part (d): Conclusion on whether to impose a moratorium\n",
    "\n",
    "This can be decided based on the p-value obtained from the hypothesis test.\n"
   ]
  },
  {
   "cell_type": "markdown",
   "id": "2ed6ae5d",
   "metadata": {},
   "source": [
    "## Part (e): Interpretation of p-value\n",
    "\n",
    "The p-value indicates the probability of seeing the results or more extreme data if the null hypothesis is true. \n",
    "\n",
    "If the p-value is less than the threshold for significance (0.05), we reject the null hypothesis.\n",
    "\n"
   ]
  },
  {
   "cell_type": "markdown",
   "id": "6b2d7213",
   "metadata": {},
   "source": [
    "## Part (f): Confidence interval for the mean mercury level\n",
    "\n",
    "When we reject the null hypothesis, then that will produce a 95% confidence interval for the average mercury level."
   ]
  },
  {
   "cell_type": "code",
   "execution_count": 3,
   "id": "c12c8944",
   "metadata": {},
   "outputs": [
    {
     "name": "stdout",
     "output_type": "stream",
     "text": [
      "Reject the null hypothesis.\n",
      "There is sufficient evidence to suggest mercury levels exceed 1 ppm.\n",
      "Health Canada should consider placing a moratorium. \n",
      "\n",
      "95% confidence interval for the mean mercury level is : (1.0218574157196536, 1.0813683907319596)\n"
     ]
    }
   ],
   "source": [
    "# Part (b)\n",
    "alpha = 0.05\n",
    "if p_value < alpha:\n",
    "    print(\"Reject the null hypothesis.\")\n",
    "    print(\"There is sufficient evidence to suggest mercury levels exceed 1 ppm.\")\n",
    "    print(\"Health Canada should consider placing a moratorium.\", \"\\n\")\n",
    "    \n",
    "    # Calculate 95% confidence interval for the mean\n",
    "    n = len(ppms_levels)\n",
    "    mean = np.mean(ppms_levels)\n",
    "    std_err = np.std(ppms_levels, ddof=1) / np.sqrt(n)\n",
    "    margin_of_error = stats.t.ppf(0.975, df=n-1) * std_err\n",
    "    confidence_interval = (mean - margin_of_error, mean + margin_of_error)\n",
    "    print(\"95% confidence interval for the mean mercury level is :\", confidence_interval)\n",
    "    \n",
    "else:\n",
    "    print(\"Fail to reject the null hypothesis. Mean mercury level in walleye fish is not greater than 1 ppm.\")\n",
    "    "
   ]
  },
  {
   "cell_type": "markdown",
   "id": "f82276ff",
   "metadata": {},
   "source": [
    "# "
   ]
  },
  {
   "attachments": {
    "Screenshot%202024-02-19%20at%201.02.28%E2%80%AFAM.png": {
     "image/png": "[encoded data removed]"
    }
   },
   "cell_type": "markdown",
   "id": "658eb22e",
   "metadata": {},
   "source": [
    "# Q2: Use the Gradient Descent algorithm to find the x1 and x2 values that minimize the function:\n",
    "![Screenshot%202024-02-19%20at%201.02.28%E2%80%AFAM.png](attachment:Screenshot%202024-02-19%20at%201.02.28%E2%80%AFAM.png)\n",
    "\n",
    "Choose the starting point as (x1, x2) = (2,3) and use the α as 0.1 and ε as 0.0001.\n",
    "Note 1: If you are using python, continue the iterations until you achieve convergence. Report the values (x1,\n",
    "x2) after performing Gradient Descent each time.\n",
    "Note 2: If you are solving manually and you achieve the convergence in less than 5 iterations, it is fine,\n",
    "otherwise, stop once you are done 5 iterations and report the values (x1, x2) after performing Gradient\n",
    "Descent each time. (25 points)"
   ]
  },
  {
   "cell_type": "code",
   "execution_count": 4,
   "id": "4aabb837",
   "metadata": {},
   "outputs": [
    {
     "name": "stdout",
     "output_type": "stream",
     "text": [
      "Iteration        x1         x2\n",
      "     1          0.5        2.4\n",
      "     2          0.62       1.59\n",
      "     3          0.353      1.14\n",
      "     4          0.2714     0.7899\n",
      "     5          0.1827     0.5554\n",
      "     6          0.1301     0.388\n",
      "     7          0.0904     0.2718\n",
      "     8          0.0635     0.1902\n",
      "     9          0.0444     0.1332\n",
      "     10         0.0311     0.0932\n",
      "     11         0.0217     0.0653\n",
      "     12         0.0152     0.0457\n",
      "     13         0.0107     0.032\n",
      "     14         0.0075     0.0224\n",
      "     15         0.0052     0.0157\n",
      "     16         0.0037     0.011\n",
      "     17         0.0026     0.0077\n",
      "     18         0.0018     0.0054\n",
      "     19         0.0013     0.0038\n",
      "     20         0.0009     0.0026\n",
      "     21         0.0006     0.0018\n",
      "     22         0.0004     0.0013\n",
      "     23         0.0003     0.0009\n",
      "     24         0.0002     0.0006\n",
      "     25         0.0001     0.0004\n",
      "     26         0.0001     0.0003\n",
      "     27         0.0001     0.0002\n",
      "\n",
      "Optimization complete.\n",
      "Minimum point found at (x1, x2) = (0.0001, 0.0002)\n"
     ]
    }
   ],
   "source": [
    "# Define the function f(x)\n",
    "def f(x1, x2):\n",
    "    return 6*x1**2 - 3*x1*x2 + 2*x2**2\n",
    "\n",
    "# Define the partial derivatives of f(x) with respect to x1 and x2\n",
    "def df_dx1(x1, x2):\n",
    "    return 12*x1 - 3*x2\n",
    "\n",
    "def df_dx2(x1, x2):\n",
    "    return -3*x1 + 4*x2\n",
    "\n",
    "x1 = 2\n",
    "x2 = 3\n",
    "\n",
    "\n",
    "alpha = 0.1\n",
    "epsilon = 0.0001\n",
    "\n",
    "delta_x1 = delta_x2 = float('inf')\n",
    "\n",
    "# Initialize the number of iterations\n",
    "iterations = 0\n",
    "\n",
    "print(\"Iteration\".ljust(16), \"x1\".ljust(10), \"x2\")\n",
    "\n",
    "# Perform Gradient Descent until convergence\n",
    "while max(abs(delta_x1), abs(delta_x2)) > epsilon:\n",
    "    gradient_x1 = df_dx1(x1, x2)\n",
    "    gradient_x2 = df_dx2(x1, x2)\n",
    "    \n",
    "    new_x1 = x1 - alpha * gradient_x1\n",
    "    new_x2 = x2 - alpha * gradient_x2\n",
    "    \n",
    "    delta_x1 = abs(new_x1 - x1)\n",
    "    delta_x2 = abs(new_x2 - x2)\n",
    "    \n",
    "    x1 = new_x1\n",
    "    x2 = new_x2\n",
    "    \n",
    "    iterations += 1\n",
    "    \n",
    "    # Print the current values of x1 and x2\n",
    "    print(\"\".ljust(4),str(iterations).ljust(10), str(round(x1, 4)).ljust(10),  str(round(x2, 4)))\n",
    "\n",
    "# Print the final result\n",
    "print(\"\\nOptimization complete.\")\n",
    "print(f\"Minimum point found at (x1, x2) = ({x1:.4f}, {x2:.4f})\")\n"
   ]
  },
  {
   "cell_type": "markdown",
   "id": "282f887a",
   "metadata": {},
   "source": [
    "# "
   ]
  },
  {
   "attachments": {
    "Screenshot%202024-02-19%20at%201.07.15%E2%80%AFAM.png": {
     "image/png": "[encoded data removed]"
    }
   },
   "cell_type": "markdown",
   "id": "4d6add9c",
   "metadata": {},
   "source": [
    "# Q3: Show that AI = IA = A, where,\n",
    "![Screenshot%202024-02-19%20at%201.07.15%E2%80%AFAM.png](attachment:Screenshot%202024-02-19%20at%201.07.15%E2%80%AFAM.png)\n",
    "(5 points) "
   ]
  },
  {
   "cell_type": "code",
   "execution_count": 5,
   "id": "9c2374b9",
   "metadata": {},
   "outputs": [
    {
     "name": "stdout",
     "output_type": "stream",
     "text": [
      "AI:\n",
      "[[-1.  2.  0.]\n",
      " [ 4. -3.  1.]\n",
      " [ 2.  1.  3.]]\n",
      "\n",
      "IA:\n",
      "[[-1.  2.  0.]\n",
      " [ 4. -3.  1.]\n",
      " [ 2.  1.  3.]]\n",
      "\n",
      "A:\n",
      "[[-1  2  0]\n",
      " [ 4 -3  1]\n",
      " [ 2  1  3]]\n",
      "\n",
      "AI == A: True\n",
      "IA == A: True\n"
     ]
    }
   ],
   "source": [
    "A = np.array([[-1, 2, 0],[4, -3, 1],[2, 1, 3]])\n",
    "\n",
    "# Define the identity matrix\n",
    "I = np.identity(3)\n",
    "\n",
    "# Compute AI\n",
    "AI = np.dot(A, I)\n",
    "\n",
    "# Compute IA\n",
    "IA = np.dot(I, A)\n",
    "\n",
    "# Check if AI = IA = A\n",
    "print(\"AI:\")\n",
    "print(AI)\n",
    "print(\"\\nIA:\")\n",
    "print(IA)\n",
    "print(\"\\nA:\")\n",
    "print(A)\n",
    "\n",
    "# Check if AI = A and IA = A\n",
    "print(\"\\nAI == A:\", np.array_equal(AI, A))\n",
    "print(\"IA == A:\", np.array_equal(IA, A))\n"
   ]
  },
  {
   "cell_type": "markdown",
   "id": "aa25c593",
   "metadata": {},
   "source": [
    "# "
   ]
  },
  {
   "attachments": {
    "Screenshot%202024-02-19%20at%201.13.29%E2%80%AFAM.png": {
     "image/png": "[encoded data removed]"
    }
   },
   "cell_type": "markdown",
   "id": "978d99fe",
   "metadata": {},
   "source": [
    "# Q4: Find the eigenvalue and eigenvectors of the following matrix,\n",
    "![Screenshot%202024-02-19%20at%201.13.29%E2%80%AFAM.png](attachment:Screenshot%202024-02-19%20at%201.13.29%E2%80%AFAM.png) (15 points)"
   ]
  },
  {
   "cell_type": "code",
   "execution_count": 6,
   "id": "9a3b124b",
   "metadata": {},
   "outputs": [
    {
     "name": "stdout",
     "output_type": "stream",
     "text": [
      "Eigenvalues:\n",
      "λ1 = (2+2.23606797749979j)\n",
      "λ2 = (2-2.23606797749979j)\n",
      "\n",
      "Eigenvectors for above mentions eigenvalues :\n",
      "v1 = [0.91287093+0.j         0.        +0.40824829j]\n",
      "v2 = [0.91287093-0.j         0.        -0.40824829j]\n"
     ]
    }
   ],
   "source": [
    "A = np.array([[2, 5],\n",
    "              [-1, 2]])\n",
    "\n",
    "# Step 1: Find the eigenvalues using NumPy\n",
    "eigenvalues = np.linalg.eigvals(A)\n",
    "\n",
    "print(\"Eigenvalues:\")\n",
    "print(\"λ1 =\", eigenvalues[0])\n",
    "print(\"λ2 =\", eigenvalues[1])\n",
    "\n",
    "\n",
    "# Step 2: Find the eigenvectors using NumPy\n",
    "eigenvalues, eigenvectors = np.linalg.eig(A)\n",
    "\n",
    "print(\"\\nEigenvectors for above mentions eigenvalues :\")\n",
    "print(\"v1 =\", eigenvectors[:, 0])\n",
    "print(\"v2 =\", eigenvectors[:, 1])\n"
   ]
  },
  {
   "cell_type": "markdown",
   "id": "89b84f39",
   "metadata": {},
   "source": [
    "Eigenvalues:\n",
    "These eigenvalues are complex numbers, indicating that the matrix has a pair of complex conjugate eigenvalues.\n",
    "\n",
    "Eigenvectors:\n",
    "These eigenvectors correspond to the respective complex eigenvalues. The eigenvectors are also complex, indicating that the eigenvectors corresponding to complex eigenvalues can have both real and imaginary components.\n",
    "\n",
    "Overall, the results show that the supplied matrix has complex eigenvalues and eigenvectors, particularly those having non-real entries or non-symmetric structures.\n"
   ]
  }
 ],
 "metadata": {
  "kernelspec": {
   "display_name": "Python 3 (ipykernel)",
   "language": "python",
   "name": "python3"
  },
  "language_info": {
   "codemirror_mode": {
    "name": "ipython",
    "version": 3
   },
   "file_extension": ".py",
   "mimetype": "text/x-python",
   "name": "python",
   "nbconvert_exporter": "python",
   "pygments_lexer": "ipython3",
   "version": "3.11.5"
  }
 },
 "nbformat": 4,
 "nbformat_minor": 5
}
