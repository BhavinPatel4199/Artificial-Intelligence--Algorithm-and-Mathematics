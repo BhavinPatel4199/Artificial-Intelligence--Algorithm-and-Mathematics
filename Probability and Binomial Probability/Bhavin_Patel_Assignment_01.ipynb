{
 "cells": [
  {
   "cell_type": "markdown",
   "id": "c01fdb50",
   "metadata": {},
   "source": [
    "# AIDI 1000 - 01 Assignment "
   ]
  },
  {
   "cell_type": "code",
   "execution_count": 1,
   "id": "7e0638c2",
   "metadata": {},
   "outputs": [],
   "source": [
    "import pandas as pd\n",
    "import numpy as np\n",
    "from scipy.stats import norm\n",
    "import math\n",
    "from math import comb"
   ]
  },
  {
   "attachments": {
    "Screenshot%202024-02-08%20at%205.40.57%E2%80%AFPM.png": {
     "image/png": "[encoded data removed]"
    }
   },
   "cell_type": "markdown",
   "id": "fa0eae99",
   "metadata": {},
   "source": [
    "### Q1: Recent crime statistics collected over the past year reveal the following figures. 81% of all people arrested were male, 15% of all people arrested were under the age of 18, 8% of all people arrested were females and under the age of 18.\n",
    "\n",
    "Let M represent the event that the person arrested is male, and U18 represents the event that the person\n",
    "arrested is under the age of 18.\n",
    "\n",
    "Part (a): Complete the table below. Use two decimals in each of your answers. (9 points)\n",
    "\n",
    "![Screenshot%202024-02-08%20at%205.40.57%E2%80%AFPM.png](attachment:Screenshot%202024-02-08%20at%205.40.57%E2%80%AFPM.png)\n",
    "\n",
    "Part (b): A person who was arrested in the past year is randomly chosen. What is the probability that this\n",
    "person is male or under the age of 18? Use two decimals in your answer. (2 points)\n",
    "\n",
    "Part (c): Find the probability that the person chosen in Part (b) is neither male not under the age of 18. Use\n",
    "two decimals in your answer. (1 points)\n",
    "\n",
    "Part (d): What is the probability that all people arrested in the past year are male and at least 18 years of age?\n",
    "Use two decimals in your answer. (1 points)\n",
    "\n",
    "Part (e): Are the events M and U18 mutually exclusive? Select the most appropriate reason below. (2 points)\n",
    "A: M and U18 are not mutually exclusive events, because P(M ∩ U18) ≠ P(M)*P(U18)\n",
    "B: M and U18 are mutually exclusive events, because P(M ⋃ U18) = 0\n",
    "C: M and U18 are mutually exclusive events, because P(M ∩ U18) = P(M)*P(U18)\n",
    "D: M and U18 are mutually exclusive events, because P(M ∩ U18) = 0\n",
    "E: M and U18 are not mutually exclusive events, because P(M ∩ U18) ≠ 0"
   ]
  },
  {
   "cell_type": "markdown",
   "id": "7ba4df77-a754-437b-b780-3c7f180f9de1",
   "metadata": {},
   "source": [
    "# Answers :"
   ]
  },
  {
   "cell_type": "markdown",
   "id": "1bde5a54",
   "metadata": {},
   "source": [
    "## Part (a) :\n",
    "\n",
    "Given:\n",
    "\n",
    "1. P(M) = 0.81\n",
    "2. P(U18) = 0.15\n",
    "3. P(Female ∩ U18) = 0.08\n",
    "\n",
    "Consider M = total percentage of males and Mc = total percentage of female,\n",
    "U18 = total percentage of people arrested are under 18 and U18c = total percentage of people arrested are above.\n",
    "\n",
    "From above given we can find the missing values to complete the table:\n",
    "1. Male under 18,\n",
    "2. male above 18,\n",
    "3. female above 18"
   ]
  },
  {
   "cell_type": "code",
   "execution_count": 2,
   "id": "61e6668f-42a0-4ed9-bbce-ca706f60630c",
   "metadata": {
    "tags": []
   },
   "outputs": [],
   "source": [
    "total_male = 0.81  # Total percentage of males arrested\n",
    "total_female = 1 - total_male # Total percentage of female arrested\n",
    "\n",
    "total_under_18 = 0.15  # Total percentage of people under 18 arrested\n",
    "total_above_18 = 1 - total_under_18  # Total percentage of people above 18 arrested\n",
    "\n",
    "female_under_18 = 0.08  # Percentage of females under 18 arrested"
   ]
  },
  {
   "cell_type": "code",
   "execution_count": 3,
   "id": "0a64f02f-7320-4034-bbbf-a53d8b79cb87",
   "metadata": {
    "tags": []
   },
   "outputs": [],
   "source": [
    "# Calculating male under 18 using total under 18 and female under 18 percentages\n",
    "male_under_18 = total_under_18 - female_under_18"
   ]
  },
  {
   "cell_type": "code",
   "execution_count": 4,
   "id": "7271f90c-7c2a-4e90-9b20-3364b393cabe",
   "metadata": {
    "tags": []
   },
   "outputs": [],
   "source": [
    "# Calculating other probabilities \n",
    "male_above_18 = total_male - male_under_18 \n",
    "female_above_18 = total_female - female_under_18 "
   ]
  },
  {
   "cell_type": "code",
   "execution_count": 5,
   "id": "e1ce10c3-063c-43d0-a057-9953a3e7a1c6",
   "metadata": {
    "tags": []
   },
   "outputs": [
    {
     "name": "stdout",
     "output_type": "stream",
     "text": [
      "Probabilities table :  \n",
      "\n",
      "                          M          Mc         Row Probabilities\n",
      "U18                      0.07       0.08            0.15      \n",
      "U18c                     0.74       0.11            0.85      \n",
      "column Probabilities     0.81       0.19            1.0       \n"
     ]
    }
   ],
   "source": [
    "print(\"Probabilities table : \", '\\n')\n",
    "\n",
    "print(\" \".ljust(25), \"M\".ljust(10), \"Mc\".ljust(10), \"Row Probabilities\".ljust(10))\n",
    "\n",
    "print(\"U18\".ljust(24), str(round(male_under_18, 4)).ljust(10), str(female_under_18).ljust(15), str(total_under_18).ljust(10))\n",
    "\n",
    "print(\"U18c\".ljust(24), str(round(male_above_18, 4)).ljust(10), str(round(female_above_18, 4)).ljust(15), str(total_above_18).ljust(10))\n",
    "\n",
    "print(\"column Probabilities\".ljust(24), str(total_male).ljust(10), str(round(total_female, 4)).ljust(15), str(1.00).ljust(10))"
   ]
  },
  {
   "cell_type": "markdown",
   "id": "f975cae4-445f-45c1-915e-89c6048940f2",
   "metadata": {},
   "source": [
    "# "
   ]
  },
  {
   "cell_type": "markdown",
   "id": "28662668-5930-4902-8005-9c02f1750305",
   "metadata": {},
   "source": [
    "## Part B : Probability that the person is male or under the age of 18"
   ]
  },
  {
   "cell_type": "markdown",
   "id": "74656d21-f4c3-47d4-8b30-908c1d7d0f67",
   "metadata": {},
   "source": [
    "Here :\n",
    "\n",
    "P(M) = total_male\n",
    "P(U18) = total_under_18\n",
    "P(M ∩ U18) = male_under_18"
   ]
  },
  {
   "cell_type": "code",
   "execution_count": 6,
   "id": "c542e67b-7917-45ab-acc6-9f5af5ad30a8",
   "metadata": {
    "tags": []
   },
   "outputs": [
    {
     "name": "stdout",
     "output_type": "stream",
     "text": [
      "Probability that a person is male or under the age of 18: 89.00 % \n"
     ]
    }
   ],
   "source": [
    "# P(M ∪ U18) = P(M) + P(U18) - P(M ∩ U18)\n",
    "\n",
    "person_is_male_or_U18 = (total_male + total_under_18 - male_under_18)*100\n",
    "print(f\"Probability that a person is male or under the age of 18: {person_is_male_or_U18:.2f} % \")\n"
   ]
  },
  {
   "cell_type": "markdown",
   "id": "73260783-765e-4db7-8636-de150abbd9f7",
   "metadata": {},
   "source": [
    "# "
   ]
  },
  {
   "cell_type": "markdown",
   "id": "fc9a7069-1992-4b50-a9cc-8467ee2aed12",
   "metadata": {},
   "source": [
    "## Part C : Probability that the person is neither male nor under the age of 18"
   ]
  },
  {
   "cell_type": "code",
   "execution_count": 7,
   "id": "6fde9a19-7205-416d-be40-aef7f1d062af",
   "metadata": {
    "tags": []
   },
   "outputs": [
    {
     "name": "stdout",
     "output_type": "stream",
     "text": [
      "Probability that a person is neither male nor under the age of 18: -8800.00 % \n"
     ]
    }
   ],
   "source": [
    "# Probability that a person is neither male nor under the age of 18, i.e., female and at least 18 years old.\n",
    "\n",
    "# Using complement rule: P(A') = 1 - P(A)\n",
    "\n",
    "person_neither_male_nor_U18 = (1 - person_is_male_or_U18)*100\n",
    "\n",
    "print(f\"Probability that a person is neither male nor under the age of 18: {person_neither_male_nor_U18:.2f} % \")\n"
   ]
  },
  {
   "cell_type": "markdown",
   "id": "3505b6be-0525-45a5-9ce8-f84adb066b0f",
   "metadata": {},
   "source": [
    "# "
   ]
  },
  {
   "cell_type": "markdown",
   "id": "0e3d13d0-d90e-4762-87e9-edc9f968b686",
   "metadata": {},
   "source": [
    "## Part D : Probability that all people arrested in the past year are male and at least 18 years old"
   ]
  },
  {
   "cell_type": "code",
   "execution_count": 8,
   "id": "d10bc32f-fc51-49d1-ad41-fede2547c46f",
   "metadata": {
    "tags": []
   },
   "outputs": [
    {
     "name": "stdout",
     "output_type": "stream",
     "text": [
      "Probability that all people arrested are male and at least 18 years old: 74.00 % \n"
     ]
    }
   ],
   "source": [
    "# Probability that all people arrested in the past year are males and at least 18 years old.\n",
    "\n",
    "arrested_all_males_at_least_18 = (male_above_18)*100\n",
    "\n",
    "print(f\"Probability that all people arrested are male and at least 18 years old: {arrested_all_males_at_least_18:.2f} % \")\n"
   ]
  },
  {
   "cell_type": "markdown",
   "id": "3b830e8f-9674-41d5-8f16-acb54e290868",
   "metadata": {},
   "source": [
    "# "
   ]
  },
  {
   "cell_type": "markdown",
   "id": "e8fddaa1-48e6-4276-9324-931c3cb81bcc",
   "metadata": {},
   "source": [
    "## Part E : Part (e): Are the events M and U18 mutually exclusive? Select the most appropriate reason below. (2 points) \n",
    "\n",
    "A: M and U18 are not mutually exclusive events, because P(M ∩ U18) ≠ P(M)*P(U18) \n",
    "\n",
    "B: M and U18 are mutually exclusive events, because P(M ⋃ U18) = 0 \n",
    "\n",
    "C: M and U18 are mutually exclusive events, because P(M ∩ U18) = P(M)*P(U18) \n",
    "\n",
    "D: M and U18 are mutually exclusive events, because P(M ∩ U18) = 0 \n",
    "\n",
    "E: M and U18 are not mutually exclusive events, because P(M ∩ U18) ≠ 0"
   ]
  },
  {
   "cell_type": "markdown",
   "id": "35db8d0a-7973-47f1-89c7-45431d37afa4",
   "metadata": {},
   "source": [
    "The events M and U18 are not mutually exclusive because there are people who are both male and under 18 (the intersection of M and U18 is not empty). \n",
    "\n",
    "\n",
    "Thus, the correct answer is option :\n",
    "A: M and U18 are not mutually exclusive events, because P(M ∩ U18) ≠ P(M)*P(U18)\n",
    "\n"
   ]
  },
  {
   "cell_type": "markdown",
   "id": "5b1743b9-ee65-45a4-b563-18823fe1be3a",
   "metadata": {},
   "source": [
    "# "
   ]
  },
  {
   "cell_type": "markdown",
   "id": "f4868aa0-5314-4dd7-a61d-6e20c3df0807",
   "metadata": {},
   "source": [
    "# Q2: Suppose that 40% of the voters in a city are in favor of a ban of smoking in public buildings. Suppose 5 voters are to be randomly sampled. Find the probability that:\n",
    "(a) 2 favor the ban. (2 points)\n",
    "\n",
    "(b) Less than 4 favor the ban. (4 points)\n",
    "\n",
    "(c) At least 1 favor the ban. (4 points)"
   ]
  },
  {
   "cell_type": "markdown",
   "id": "7639ba11-7a46-4e62-acf8-d679cd81528b",
   "metadata": {},
   "source": [
    "# Answers : "
   ]
  },
  {
   "cell_type": "markdown",
   "id": "3bad9a5f-7e06-4cb8-af04-2e3d53ffa7e6",
   "metadata": {},
   "source": [
    "## Part A : Probability that 2 voters favor the ban"
   ]
  },
  {
   "cell_type": "code",
   "execution_count": 9,
   "id": "c5e72365-1f00-499e-9dcc-26f592199522",
   "metadata": {
    "tags": []
   },
   "outputs": [
    {
     "name": "stdout",
     "output_type": "stream",
     "text": [
      "Probability that 2 voters favor the ban: 34.56 %\n"
     ]
    }
   ],
   "source": [
    "# Given data\n",
    "favor_in_ban = 0.40  # Probability of favoring the ban\n",
    "voters = 5     # Number of voters sampled\n",
    "\n",
    "a = 2\n",
    "probability_a = (comb(voters, a) * (favor_in_ban ** a) * ((1 - favor_in_ban) ** (voters - a)))*100\n",
    "print(\"Probability that 2 voters favor the ban:\", probability_a, '%')"
   ]
  },
  {
   "cell_type": "markdown",
   "id": "1402f252-f285-4c3c-8fca-d913e8914416",
   "metadata": {},
   "source": [
    "## Part B : Probability that less than 4 voters favor the ban"
   ]
  },
  {
   "cell_type": "code",
   "execution_count": 10,
   "id": "5c165a94-1ae3-48b0-9355-a645cfbfd2c7",
   "metadata": {
    "tags": []
   },
   "outputs": [
    {
     "name": "stdout",
     "output_type": "stream",
     "text": [
      "Probability that less than 4 voters favor the ban: 91.296 %\n"
     ]
    }
   ],
   "source": [
    "# (b) Probability that less than 4 voters favor the ban\n",
    "probability_b = 0\n",
    "for b in range(4):\n",
    "    probability_b += comb(voters, b) * (favor_in_ban ** b) * ((1 - favor_in_ban) ** (voters - b))\n",
    "percent_probability_b = (probability_b)*100\n",
    "print(\"Probability that less than 4 voters favor the ban:\", percent_probability_b, \"%\")\n"
   ]
  },
  {
   "cell_type": "markdown",
   "id": "85d8d68d-57ab-418a-b7d8-c6eee6ce62d8",
   "metadata": {},
   "source": [
    "## Part C : Probability that at least 1 voter favors the ban"
   ]
  },
  {
   "cell_type": "code",
   "execution_count": 11,
   "id": "258422c6-fd04-4756-89b2-2490d90dac31",
   "metadata": {
    "tags": []
   },
   "outputs": [
    {
     "name": "stdout",
     "output_type": "stream",
     "text": [
      "Probability that at least 1 voter favors the ban: 92.224 %\n"
     ]
    }
   ],
   "source": [
    "probability_c = (1 - (comb(voters, 0) * (favor_in_ban ** 0) * ((1 - favor_in_ban) ** voters)))*100\n",
    "\n",
    "print(\"Probability that at least 1 voter favors the ban:\", probability_c, '%')"
   ]
  },
  {
   "cell_type": "markdown",
   "id": "f0e2185d-0467-478c-8de6-0cf68067a5aa",
   "metadata": {},
   "source": [
    "# "
   ]
  },
  {
   "cell_type": "markdown",
   "id": "fef91fd9-ed40-46b0-a977-43cddf4eb707",
   "metadata": {
    "tags": []
   },
   "source": [
    "# Q3: A recent survey of employed Canadians found that 40%, or 4-in-10, would find it difficult to meet their financial obligations if their paycheque was delayed by one-week. You are to randomly select two employed Canadians. Compute the probability that:\n",
    "\n",
    "(a) Both would find it difficult to meet their financial obligations if their paycheque was delayed by oneweek. (2 points)\n",
    "\n",
    "(b) Neither would find it difficult to meet their financial obligations if their paycheque was delayed by one-week. (2 points)\n",
    "\n",
    "(c) At least one of the two would find it difficult to meet their financial obligations if their paycheque was delayed by one-week. (2 points)\n",
    "\n",
    "(d) Suppose you are to randomly pick n-employed Canadians in such a way that the probability of at least one of them will not be able to meet their financial obligations if their paycheque is delayed by one -week is 0.95. Compute the minimum number of employed Canadians you would have to randomly select. In other words, compute the sample size n. (4 points)"
   ]
  },
  {
   "cell_type": "markdown",
   "id": "e803da93-151d-48e6-a9c3-e7699c2842dd",
   "metadata": {},
   "source": [
    "# Answers : "
   ]
  },
  {
   "cell_type": "code",
   "execution_count": 12,
   "id": "85d35db5-8f76-4952-9499-2a11439a3fc0",
   "metadata": {
    "tags": []
   },
   "outputs": [],
   "source": [
    "# Probability of an employed Canadian finding it difficult to meet financial obligations\n",
    "probability_difficult = 0.4\n",
    "\n",
    "# Probability of an employed Canadian not finding it difficult\n",
    "probability_not_difficult = 1 - probability_difficult"
   ]
  },
  {
   "cell_type": "markdown",
   "id": "f1da4a27-c524-4265-b38c-c84a8aa71e1c",
   "metadata": {},
   "source": [
    "## Part A : Probability that both would find it difficult"
   ]
  },
  {
   "cell_type": "code",
   "execution_count": 13,
   "id": "b833ad91-fe9d-4dba-b508-5043db639f37",
   "metadata": {
    "tags": []
   },
   "outputs": [
    {
     "name": "stdout",
     "output_type": "stream",
     "text": [
      "Probability that both would find it difficult to meet their financial obligations if their paycheque was delayed by oneweek: 16.0 %\n"
     ]
    }
   ],
   "source": [
    "probability_both_difficult = (probability_difficult * probability_difficult)*100\n",
    "print(\"Probability that both would find it difficult to meet their financial obligations if their paycheque was delayed by oneweek:\", round(probability_both_difficult, 3), '%')\n"
   ]
  },
  {
   "cell_type": "markdown",
   "id": "21e83213-87fe-4294-8c77-31cffa607dde",
   "metadata": {},
   "source": [
    "## Part B : Probability that neither would find it difficult"
   ]
  },
  {
   "cell_type": "code",
   "execution_count": 14,
   "id": "4c74e09d-333d-454c-b5f8-0108d5a76808",
   "metadata": {
    "tags": []
   },
   "outputs": [
    {
     "name": "stdout",
     "output_type": "stream",
     "text": [
      "Probability that neither would find it difficult to meet their financial obligations if their paycheque was delayed by oneweek: 36.0 %\n"
     ]
    }
   ],
   "source": [
    "probability_neither_difficult = (probability_not_difficult * probability_not_difficult)*100\n",
    "print(\"Probability that neither would find it difficult to meet their financial obligations if their paycheque was delayed by oneweek:\", probability_neither_difficult, '%')"
   ]
  },
  {
   "cell_type": "markdown",
   "id": "f5e386ce-f6c2-4f01-853e-d12b2074e85f",
   "metadata": {},
   "source": [
    "## Part C : Probability that at least one would find it difficult"
   ]
  },
  {
   "cell_type": "code",
   "execution_count": 15,
   "id": "db48e90e-8c0c-48b9-94fd-2e7be6ff33d6",
   "metadata": {
    "tags": []
   },
   "outputs": [
    {
     "name": "stdout",
     "output_type": "stream",
     "text": [
      "Probability that at least one would find it difficult to meet their financial obligations if their paycheque was delayed by one-week: 64.0 %\n"
     ]
    }
   ],
   "source": [
    "probability_at_least_one_difficult = (100 - probability_neither_difficult)\n",
    "print(\"Probability that at least one would find it difficult to meet their financial obligations if their paycheque was delayed by one-week:\", probability_at_least_one_difficult, '%')"
   ]
  },
  {
   "cell_type": "markdown",
   "id": "f9aac143-568f-46be-a0be-2471f689b674",
   "metadata": {},
   "source": [
    "## Part D : Minimum number of employed Canadians you would have to randomly select"
   ]
  },
  {
   "cell_type": "markdown",
   "id": "1e91e147-f285-48d6-a306-423a12727184",
   "metadata": {},
   "source": [
    "Probability that at least one would find it difficult should be 0.95 or greater\n",
    "\n",
    "(1 - probability_not_difficult)^number >= 0.95\n",
    "\n",
    "Solving for number : number >= log(0.05) / log(0.6)"
   ]
  },
  {
   "cell_type": "code",
   "execution_count": 16,
   "id": "5f997fb9-c47a-4199-995a-485eab84ac8a",
   "metadata": {
    "tags": []
   },
   "outputs": [
    {
     "name": "stdout",
     "output_type": "stream",
     "text": [
      "Minimum number of employed Canadians would have to randomly select: 6\n"
     ]
    }
   ],
   "source": [
    "number = math.ceil(math.log(0.05) / math.log(probability_not_difficult))\n",
    "print(\"Minimum number of employed Canadians would have to randomly select:\", number)"
   ]
  },
  {
   "cell_type": "markdown",
   "id": "7c690511-e074-414c-9881-3b7ef26ccbac",
   "metadata": {},
   "source": [
    "# "
   ]
  },
  {
   "cell_type": "markdown",
   "id": "c8791756-478e-4113-8a09-cfa3bad2b7cd",
   "metadata": {},
   "source": [
    "# Q4: Most graduate schools of business require applicants for admission to take the SAT examination. Scores on the SAT are roughly normally distributed with a mean of 530 and a standard deviation of 110. What is the probability of an individual scoring above 500 on the SAT? "
   ]
  },
  {
   "cell_type": "code",
   "execution_count": 17,
   "id": "03da1600-f18e-42d2-90d0-97e64d0a3e39",
   "metadata": {
    "tags": []
   },
   "outputs": [
    {
     "name": "stdout",
     "output_type": "stream",
     "text": [
      "Probability of scoring above 500 on the SAT: 60.75 %\n"
     ]
    }
   ],
   "source": [
    "# Mean and standard deviation of SAT scores\n",
    "mean = 530\n",
    "standard_deviation = 110\n",
    "\n",
    "# Score for which we want to find the probability\n",
    "score = 500\n",
    "\n",
    "# Calculate the z-score\n",
    "z_score = (score - mean) / standard_deviation\n",
    "\n",
    "\n",
    "probability_scoring_above_500 = (1 - norm.cdf(z_score))*100\n",
    "\n",
    "print(\"Probability of scoring above 500 on the SAT:\", round(probability_scoring_above_500, 2), '%')"
   ]
  },
  {
   "cell_type": "markdown",
   "id": "0a4065c7-3f74-482c-9059-5a7794082224",
   "metadata": {},
   "source": [
    "# "
   ]
  },
  {
   "cell_type": "markdown",
   "id": "eb40f8f6-6fee-425a-bf8d-0039f5f21d31",
   "metadata": {},
   "source": [
    "# Q5: The Edwards’s Theater chain has studied its movie customers to determine how much money they spend on concessions. The study revealed that the spending distribution is approximately normally distributed with a mean of 4.11 dollar and a standard deviation of 1.37 dollar. What percentage of customers will spend less than 3.00 dollar on concessions? "
   ]
  },
  {
   "cell_type": "code",
   "execution_count": 18,
   "id": "0f3491b5-4443-4d7e-9ff5-174acb2cecb7",
   "metadata": {
    "tags": []
   },
   "outputs": [
    {
     "name": "stdout",
     "output_type": "stream",
     "text": [
      "Percentage of customers spending less than $3.00 on concessions: 20.89 %\n"
     ]
    }
   ],
   "source": [
    "# Mean and standard deviation of spending on concessions\n",
    "mean_5 = 4.11\n",
    "standard_deviation_5 = 1.37\n",
    "\n",
    "# Spending amount for which we want to find the probability\n",
    "spending = 3.00\n",
    "\n",
    "# Calculate the z-score\n",
    "z_score = (spending - mean_5) / standard_deviation_5\n",
    "\n",
    "# Calculate the probability of spending less than 3.00 dollars\n",
    "probability_less_than_3 = norm.cdf(z_score)\n",
    "\n",
    "# Convert probability to percentage\n",
    "percentage_less_than_3 = probability_less_than_3 * 100\n",
    "\n",
    "print(\"Percentage of customers spending less than $3.00 on concessions:\", round(percentage_less_than_3, 2), '%')\n"
   ]
  },
  {
   "cell_type": "markdown",
   "id": "934970ab-5aa3-4c44-967c-9b080b34361a",
   "metadata": {},
   "source": [
    "# "
   ]
  },
  {
   "attachments": {
    "356cc9a3-9057-4009-b542-efe4ee2a7ac2.png": {
     "image/png": "[encoded data removed]"
    }
   },
   "cell_type": "markdown",
   "id": "58504c83-12e8-4aa2-9ef5-995fbe1dca17",
   "metadata": {},
   "source": [
    "## Q6: There are three types of coins which have different probabilities of landing heads when tossed:\n",
    "\n",
    "– Type A coins are fair, with probability 0.5 of heads\n",
    "– Type B coins are bent and have probability 0.6 of heads\n",
    "– Type C coins are bent and have probability 0.9 of heads\n",
    "\n",
    "Suppose I have a drawer containing 5 coins: 2 of type A, 2 of type B, and 1 of type C. \n",
    "\n",
    "I reach into the drawer and pick a coin at random. Without showing you the coin, I flip it once and get heads (i.e. event D). \n",
    "\n",
    "What is the probability it is:\n",
    "\n",
    "type A (i.e. P(H = A|D))? \n",
    "\n",
    "Type B (i.e. P(H = B|D))? \n",
    "\n",
    "Type C (i.e. P(H =C|D))?\n",
    "\n",
    "Fill out table below with your answers.\n",
    "\n",
    "![Screenshot 2024-02-11 at 9.16.53 PM.png](attachment:356cc9a3-9057-4009-b542-efe4ee2a7ac2.png)"
   ]
  },
  {
   "cell_type": "markdown",
   "id": "33c00eb8-367f-4b99-b89b-cee8b466a839",
   "metadata": {},
   "source": [
    "# Answers :\n"
   ]
  },
  {
   "cell_type": "code",
   "execution_count": 19,
   "id": "38ad93b9-2933-4ea9-b55e-9033e33449f4",
   "metadata": {
    "tags": []
   },
   "outputs": [
    {
     "name": "stdout",
     "output_type": "stream",
     "text": [
      "Probability of type A given heads: 32.26 %\n",
      "Probability of type B given heads: 38.71 %\n",
      "Probability of type C given heads: 29.03 %\n"
     ]
    }
   ],
   "source": [
    "# Define the probabilities\n",
    "probability_of_A = 0.5\n",
    "probability_of_B= 0.6\n",
    "probability_of_C = 0.9\n",
    "\n",
    "A = 2 / 5\n",
    "B = 2 / 5\n",
    "C = 1 / 5\n",
    "\n",
    "# Compute the total probability of observing heads\n",
    "total_probability = probability_of_A * A + probability_of_B * B + probability_of_C * C\n",
    "\n",
    "# Compute the probabilities of having each type of coin given heads\n",
    "probability_of_head_A = ((probability_of_A * A) / total_probability)*100\n",
    "probability_of_head_B = ((probability_of_B * B) / total_probability)*100\n",
    "probability_of_head_C = ((probability_of_C * C) / total_probability)*100\n",
    "\n",
    "# Print the results\n",
    "print(\"Probability of type A given heads:\", round(probability_of_head_A, 2), '%')\n",
    "print(\"Probability of type B given heads:\", round(probability_of_head_B, 2), '%')\n",
    "print(\"Probability of type C given heads:\", round(probability_of_head_C, 2), '%')\n"
   ]
  },
  {
   "cell_type": "code",
   "execution_count": 20,
   "id": "a66bf65c-56ae-4ea2-b8c4-0bdceab1195d",
   "metadata": {
    "tags": []
   },
   "outputs": [
    {
     "name": "stdout",
     "output_type": "stream",
     "text": [
      "Hypothesis           Prior      Likelihood      Posterior \n",
      "------------------------------------------------------------\n",
      "A                     0.4           0.5          32.26     \n",
      "B                     0.4           0.6          38.71     \n",
      "C                     0.2           0.9          29.03     \n"
     ]
    }
   ],
   "source": [
    "print(\"Hypothesis \".ljust(20), \"Prior\".ljust(10), \"Likelihood\".ljust(15), \"Posterior\".ljust(10))\n",
    "print(\"-\"*60)\n",
    "print(\"A\".ljust(21), str(round(A, 4)).ljust(13), str(probability_of_A).ljust(12), str(round(probability_of_head_A, 2)).ljust(10))\n",
    "\n",
    "print(\"B\".ljust(21), str(round(B, 4)).ljust(13), str(probability_of_B).ljust(12), str(round(probability_of_head_B, 2)).ljust(10))\n",
    "\n",
    "print(\"C\".ljust(21), str(round(C, 4)).ljust(13), str(probability_of_C).ljust(12), str(round(probability_of_head_C, 2)).ljust(10))"
   ]
  },
  {
   "cell_type": "markdown",
   "id": "426e290f-bf7f-43d1-9b2e-c348766d459c",
   "metadata": {},
   "source": [
    "# "
   ]
  },
  {
   "attachments": {
    "2867644b-2080-4ac8-8ceb-40a5d73c80bd.png": {
     "image/png": "[encoded data removed]"
    }
   },
   "cell_type": "markdown",
   "id": "df2052b3-47a5-408f-b8a2-03978f31deb7",
   "metadata": {},
   "source": [
    "#  Q7: Consider the following dataset of four rows and three features (Malicious, Viagara, Meet) with class labels (ham and spam). \n",
    "\n",
    "Suppose we see a message having these features M5 = (Malicious = ‘yes′,Viagara =‘no′,Meet =‘yes′), What is the probability that it is a spam or ham?\n",
    "\n",
    "\n",
    "![Screenshot 2024-02-11 at 10.50.38 PM.png](attachment:2867644b-2080-4ac8-8ceb-40a5d73c80bd.png)"
   ]
  },
  {
   "cell_type": "code",
   "execution_count": 21,
   "id": "a90d0d27-29e3-46a2-9355-d774dfdefb0c",
   "metadata": {
    "tags": []
   },
   "outputs": [
    {
     "data": {
      "text/html": [
       "<div>\n",
       "<style scoped>\n",
       "    .dataframe tbody tr th:only-of-type {\n",
       "        vertical-align: middle;\n",
       "    }\n",
       "\n",
       "    .dataframe tbody tr th {\n",
       "        vertical-align: top;\n",
       "    }\n",
       "\n",
       "    .dataframe thead th {\n",
       "        text-align: right;\n",
       "    }\n",
       "</style>\n",
       "<table border=\"1\" class=\"dataframe\">\n",
       "  <thead>\n",
       "    <tr style=\"text-align: right;\">\n",
       "      <th></th>\n",
       "      <th>Malicious</th>\n",
       "      <th>Viagara</th>\n",
       "      <th>Meet</th>\n",
       "      <th>Class</th>\n",
       "    </tr>\n",
       "  </thead>\n",
       "  <tbody>\n",
       "    <tr>\n",
       "      <th>M1</th>\n",
       "      <td>yes</td>\n",
       "      <td>yes</td>\n",
       "      <td>yes</td>\n",
       "      <td>spam</td>\n",
       "    </tr>\n",
       "    <tr>\n",
       "      <th>M2</th>\n",
       "      <td>no</td>\n",
       "      <td>no</td>\n",
       "      <td>yes</td>\n",
       "      <td>ham</td>\n",
       "    </tr>\n",
       "    <tr>\n",
       "      <th>M3</th>\n",
       "      <td>yes</td>\n",
       "      <td>no</td>\n",
       "      <td>yes</td>\n",
       "      <td>spam</td>\n",
       "    </tr>\n",
       "    <tr>\n",
       "      <th>M4</th>\n",
       "      <td>no</td>\n",
       "      <td>yes</td>\n",
       "      <td>no</td>\n",
       "      <td>ham</td>\n",
       "    </tr>\n",
       "  </tbody>\n",
       "</table>\n",
       "</div>"
      ],
      "text/plain": [
       "   Malicious Viagara Meet Class\n",
       "M1       yes     yes  yes  spam\n",
       "M2        no      no  yes   ham\n",
       "M3       yes      no  yes  spam\n",
       "M4        no     yes   no   ham"
      ]
     },
     "execution_count": 21,
     "metadata": {},
     "output_type": "execute_result"
    }
   ],
   "source": [
    "data = [\n",
    "    {'Malicious': 'yes', 'Viagara': 'yes', 'Meet': 'yes', 'Class': 'spam'},\n",
    "    {'Malicious': 'no', 'Viagara': 'no', 'Meet': 'yes', 'Class': 'ham'},\n",
    "    {'Malicious': 'yes', 'Viagara': 'no', 'Meet': 'yes', 'Class': 'spam'},\n",
    "    {'Malicious': 'no', 'Viagara': 'yes', 'Meet': 'no', 'Class': 'ham'}\n",
    "]\n",
    "\n",
    "# Create a Pandas DataFrame\n",
    "messages_df = pd.DataFrame(data)\n",
    "\n",
    "# Set index with message id (M1, M2, M3, M4)\n",
    "messages_df.index = ['M1', 'M2', 'M3', 'M4']\n",
    "\n",
    "messages_df"
   ]
  },
  {
   "cell_type": "markdown",
   "id": "9d8cb537-79db-4a4f-98b6-dfd0c996c5e3",
   "metadata": {},
   "source": [
    "### Perform below operations to know weather the M5 is spam or ham : \n",
    "\n",
    "1. Count the occurrences of each class\n",
    "2. Count the occurrences of each feature given the class\n",
    "3. Calculate the prior probabilities\n",
    "4. Calculate the likelihoods\n",
    "5. Normalize probabilities"
   ]
  },
  {
   "cell_type": "code",
   "execution_count": 22,
   "id": "c46b1d3b-e89d-47a4-af42-2b0bb3f020e9",
   "metadata": {
    "tags": []
   },
   "outputs": [
    {
     "name": "stdout",
     "output_type": "stream",
     "text": [
      "Probability that the message is spam: 1.0\n",
      "Probability that the message is ham: 0.0\n"
     ]
    }
   ],
   "source": [
    "\n",
    "class_counts = messages_df['Class'].value_counts()\n",
    "\n",
    "\n",
    "feature_counts_spam = messages_df[messages_df['Class'] == 'spam'].drop(columns='Class').apply(pd.value_counts).fillna(0)\n",
    "feature_counts_ham = messages_df[messages_df['Class'] == 'ham'].drop(columns='Class').apply(pd.value_counts).fillna(0)\n",
    "\n",
    "\n",
    "total_messages = len(messages_df)\n",
    "prior_prob_spam = class_counts['spam'] / total_messages\n",
    "prior_prob_ham = class_counts['ham'] / total_messages\n",
    "\n",
    "# Given new message M5 = (Malicious = 'yes', Viagara = 'no', Meet = 'yes')\n",
    "new_message = {'Malicious': 'yes', 'Viagara': 'no', 'Meet': 'yes'}\n",
    "\n",
    "\n",
    "likelihood_spam = prior_prob_spam\n",
    "likelihood_ham = prior_prob_ham\n",
    "\n",
    "for feature, val in new_message.items():\n",
    "    if val == 'yes':\n",
    "        likelihood_spam *= (feature_counts_spam[feature]['yes'] / class_counts['spam'])\n",
    "        likelihood_ham *= (feature_counts_ham[feature]['yes'] / class_counts['ham'])\n",
    "    else:\n",
    "        likelihood_spam *= ((class_counts['spam'] - feature_counts_spam[feature]['yes']) / class_counts['spam'])\n",
    "        likelihood_ham *= ((class_counts['ham'] - feature_counts_ham[feature]['yes']) / class_counts['ham'])\n",
    "\n",
    "\n",
    "evidence = likelihood_spam + likelihood_ham\n",
    "posterior_prob_spam = likelihood_spam / evidence\n",
    "posterior_prob_ham = likelihood_ham / evidence\n",
    "\n",
    "print(\"Probability that the message is spam:\", posterior_prob_spam)\n",
    "print(\"Probability that the message is ham:\", posterior_prob_ham)"
   ]
  },
  {
   "cell_type": "markdown",
   "id": "d74a2972-627a-456e-bfae-56e651562e3b",
   "metadata": {},
   "source": [
    "### From above observation we can say that the M5 is spam."
   ]
  }
 ],
 "metadata": {
  "kernelspec": {
   "display_name": "Python 3 (ipykernel)",
   "language": "python",
   "name": "python3"
  },
  "language_info": {
   "codemirror_mode": {
    "name": "ipython",
    "version": 3
   },
   "file_extension": ".py",
   "mimetype": "text/x-python",
   "name": "python",
   "nbconvert_exporter": "python",
   "pygments_lexer": "ipython3",
   "version": "3.11.5"
  }
 },
 "nbformat": 4,
 "nbformat_minor": 5
}
